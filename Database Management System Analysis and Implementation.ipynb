{
 "cells": [
  {
   "cell_type": "markdown",
   "metadata": {},
   "source": [
    "# Importing Libraries"
   ]
  },
  {
   "cell_type": "code",
   "execution_count": 1,
   "metadata": {},
   "outputs": [],
   "source": [
    "import mysql.connector\n",
    "import pandas as pd"
   ]
  },
  {
   "cell_type": "markdown",
   "metadata": {},
   "source": [
    "# Creating a reconnection function"
   ]
  },
  {
   "cell_type": "code",
   "execution_count": 2,
   "metadata": {},
   "outputs": [],
   "source": [
    "def create_connection():\n",
    "    \"\"\"Create and return a MySQL database connection and cursor.\"\"\"\n",
    "    \n",
    "    # Establish the connection\n",
    "    mydb = mysql.connector.connect(\n",
    "        host=\"localhost\",\n",
    "        user=\"root\",\n",
    "        password=\"\",\n",
    "        database=\"Library_Management_System\"\n",
    "    )\n",
    "    \n",
    "    # Create a cursor\n",
    "    conn = mydb.cursor()\n",
    "    \n",
    "    print(\"Connection to the database was successful.\")\n",
    "    return mydb, conn"
   ]
  },
  {
   "cell_type": "markdown",
   "metadata": {},
   "source": [
    "# Coding the database"
   ]
  },
  {
   "cell_type": "markdown",
   "metadata": {},
   "source": [
    "## Creating connection object"
   ]
  },
  {
   "cell_type": "code",
   "execution_count": 3,
   "metadata": {},
   "outputs": [
    {
     "name": "stdout",
     "output_type": "stream",
     "text": [
      "<mysql.connector.connection_cext.CMySQLConnection object at 0x000001B352934830>\n"
     ]
    }
   ],
   "source": [
    "mydb = mysql.connector.connect(\n",
    "    host = \"localhost\",\n",
    "    user = \"root\",\n",
    "    password = \"\",\n",
    "    database=\"\"\n",
    ")\n",
    "\n",
    "print(mydb)"
   ]
  },
  {
   "cell_type": "markdown",
   "metadata": {},
   "source": [
    "## Creating the cursor"
   ]
  },
  {
   "cell_type": "code",
   "execution_count": 4,
   "metadata": {},
   "outputs": [],
   "source": [
    "conn = mydb.cursor()"
   ]
  },
  {
   "cell_type": "markdown",
   "metadata": {},
   "source": [
    "## Creating the MySQL code"
   ]
  },
  {
   "cell_type": "code",
   "execution_count": 5,
   "metadata": {},
   "outputs": [
    {
     "data": {
      "text/plain": [
       "True"
      ]
     },
     "execution_count": 5,
     "metadata": {},
     "output_type": "execute_result"
    }
   ],
   "source": [
    "conn.execute(\"DROP DATABASE IF EXISTS Library_Management_System\")\n",
    "\n",
    "conn.execute(\"CREATE DATABASE IF NOT EXISTS Library_Management_System\")\n",
    "\n",
    "conn.execute(\"USE Library_Management_System\")\n",
    "\n",
    "create_sql =  \"\"\"\n",
    "CREATE TABLE IF NOT EXISTS Subjects (\n",
    "    SubjectID INT AUTO_INCREMENT PRIMARY KEY,\n",
    "    SubjectName VARCHAR(255),\n",
    "    Description TEXT\n",
    ");\n",
    "\n",
    "CREATE TABLE IF NOT EXISTS Authors (\n",
    "    AuthorID INT AUTO_INCREMENT PRIMARY KEY,\n",
    "    Name VARCHAR(255),\n",
    "    Affiliation VARCHAR(255)\n",
    ");\n",
    "\n",
    "CREATE TABLE IF NOT EXISTS UserTypes (\n",
    "    UserTypeID INT AUTO_INCREMENT PRIMARY KEY,\n",
    "    TypeName VARCHAR(50) NOT NULL,\n",
    "    Accesslevel VARCHAR(50) NOT NULL,\n",
    "    BorrowingLimit INT NOT NULL\n",
    ");\n",
    "\n",
    "CREATE TABLE IF NOT EXISTS Users (\n",
    "    UserID INT AUTO_INCREMENT PRIMARY KEY,\n",
    "    Name VARCHAR(255),\n",
    "    Email VARCHAR(255),\n",
    "    Department VARCHAR(255),\n",
    "    Affiliation VARCHAR(255),\n",
    "    UserTypeID INT,\n",
    "    FOREIGN KEY (UserTypeID) REFERENCES UserTypes(UserTypeID)\n",
    ");\n",
    "\n",
    "CREATE TABLE IF NOT EXISTS Resources (\n",
    "    ResourceID INT AUTO_INCREMENT PRIMARY KEY,\n",
    "    Title VARCHAR(255),\n",
    "    PublicationDate DATE,\n",
    "    Publisher VARCHAR(255),\n",
    "    ISBN VARCHAR(13),\n",
    "    Format ENUM('Physical', 'Digital'),\n",
    "    SubjectID INT,\n",
    "    AuthorID INT,\n",
    "    FOREIGN KEY (SubjectID) REFERENCES Subjects(SubjectID),\n",
    "    FOREIGN KEY (AuthorID) REFERENCES Authors(AuthorID)\n",
    ");\n",
    "\n",
    "CREATE TABLE IF NOT EXISTS BorrowingRecords (\n",
    "    BorrowingRecordID INT AUTO_INCREMENT PRIMARY KEY,\n",
    "    UserID INT,\n",
    "    ResourceID INT,\n",
    "    BorrowedDate DATE,\n",
    "    DueDate DATE,\n",
    "    ReturnedDate DATE,\n",
    "    FOREIGN KEY (UserID) REFERENCES Users(UserID),\n",
    "    FOREIGN KEY (ResourceID) REFERENCES Resources(ResourceID)\n",
    ");\n",
    "\n",
    "CREATE TABLE IF NOT EXISTS Fines (\n",
    "    FineID INT AUTO_INCREMENT PRIMARY KEY,\n",
    "    BorrowingRecordID INT,\n",
    "    FineAmount DECIMAL(10, 2),\n",
    "    PaymentDate DATE,\n",
    "    FOREIGN KEY (BorrowingRecordID) REFERENCES BorrowingRecords(BorrowingRecordID)\n",
    ");\n",
    "\n",
    "CREATE TABLE IF NOT EXISTS Reservations (\n",
    "    ReservationID INT AUTO_INCREMENT PRIMARY KEY,\n",
    "    UserID INT,\n",
    "    ResourceID INT,\n",
    "    ReservationDate DATE,\n",
    "    Status ENUM('Pending', 'Approved', 'Denied'),\n",
    "    FOREIGN KEY (UserID) REFERENCES Users(UserID),\n",
    "    FOREIGN KEY (ResourceID) REFERENCES Resources(ResourceID)\n",
    ");\n",
    "\n",
    "CREATE TABLE IF NOT EXISTS Reviews (\n",
    "    ReviewID INT AUTO_INCREMENT PRIMARY KEY,\n",
    "    UserID INT,\n",
    "    ResourceID INT,\n",
    "    Rating INT,\n",
    "    ReviewText TEXT,\n",
    "    FOREIGN KEY (UserID) REFERENCES Users(UserID),\n",
    "    FOREIGN KEY (ResourceID) REFERENCES Resources(ResourceID)\n",
    ");\n",
    "\n",
    "CREATE TABLE IF NOT EXISTS Keywords (\n",
    "    KeywordID INT AUTO_INCREMENT PRIMARY KEY,\n",
    "    KeywordText VARCHAR(255)\n",
    ");\n",
    "\n",
    "CREATE TABLE IF NOT EXISTS ResourceKeywords (\n",
    "    ResourceID INT,\n",
    "    KeywordID INT,\n",
    "    PRIMARY KEY (ResourceID, KeywordID),\n",
    "    FOREIGN KEY (ResourceID) REFERENCES Resources(ResourceID),\n",
    "    FOREIGN KEY (KeywordID) REFERENCES Keywords(KeywordID)\n",
    ");\n",
    "\"\"\"\n",
    "\n",
    "conn.execute(create_sql,multi=True)\n",
    "conn.close()"
   ]
  },
  {
   "cell_type": "markdown",
   "metadata": {},
   "source": [
    "## Advanced Functionalities:"
   ]
  },
  {
   "cell_type": "markdown",
   "metadata": {},
   "source": [
    "### Track resource availability (physical vs. digital copies, borrowing status)"
   ]
  },
  {
   "cell_type": "code",
   "execution_count": 6,
   "metadata": {},
   "outputs": [
    {
     "name": "stdout",
     "output_type": "stream",
     "text": [
      "Connection to the database was successful.\n"
     ]
    }
   ],
   "source": [
    "mydb, conn = create_connection()\n",
    "track_availability = \"\"\"\n",
    "\n",
    "CREATE PROCEDURE AddAvailableCopiesColumn()\n",
    "BEGIN\n",
    "    ALTER TABLE Resources\n",
    "    ADD AvailableCopies INT DEFAULT 0;\n",
    "END;\n",
    "\"\"\"    \n",
    "conn.execute(track_availability)"
   ]
  },
  {
   "cell_type": "markdown",
   "metadata": {},
   "source": [
    "### Calculate overdue fines based on resource type and borrowing duration"
   ]
  },
  {
   "cell_type": "code",
   "execution_count": 7,
   "metadata": {},
   "outputs": [
    {
     "name": "stdout",
     "output_type": "stream",
     "text": [
      "Connection to the database was successful.\n"
     ]
    }
   ],
   "source": [
    "mydb, conn = create_connection()\n",
    "\n",
    "calculating_overdue = \"\"\"\n",
    "\n",
    "CREATE PROCEDURE GetOverdueRecords()\n",
    "BEGIN\n",
    "    SELECT\n",
    "        br.BorrowingRecordID,\n",
    "        r.Title,\n",
    "        br.DueDate,\n",
    "        COALESCE(br.ReturnedDate, CURDATE()) AS ActualReturnDate,\n",
    "        DATEDIFF(COALESCE(br.ReturnedDate, CURDATE()), br.DueDate) AS OverdueDays,\n",
    "        CASE\n",
    "            WHEN r.Format = 'Physical' THEN DATEDIFF(COALESCE(br.ReturnedDate, CURDATE()), br.DueDate) * 2\n",
    "            WHEN r.Format = 'Digital' THEN DATEDIFF(COALESCE(br.ReturnedDate, CURDATE()), br.DueDate) * 1\n",
    "            ELSE 0\n",
    "        END AS TotalFine\n",
    "    FROM \n",
    "        BorrowingRecords br\n",
    "    JOIN \n",
    "        Resources r ON br.ResourceID = r.ResourceID\n",
    "    WHERE \n",
    "        COALESCE(br.ReturnedDate, CURDATE()) > br.DueDate;\n",
    "END;\n",
    "\"\"\"\n",
    "\n",
    "conn.execute(calculating_overdue)"
   ]
  },
  {
   "cell_type": "markdown",
   "metadata": {},
   "source": [
    "### Implement keyword search function for resource discovery"
   ]
  },
  {
   "cell_type": "code",
   "execution_count": 8,
   "metadata": {},
   "outputs": [
    {
     "name": "stdout",
     "output_type": "stream",
     "text": [
      "Connection to the database was successful.\n"
     ]
    }
   ],
   "source": [
    "mydb,conn = create_connection()\n",
    "\n",
    "resource_search = \"\"\"\n",
    "\n",
    "CREATE PROCEDURE SearchResources(IN keyword VARCHAR(255))\n",
    "BEGIN\n",
    "    SELECT *\n",
    "    FROM RESOURCES\n",
    "    WHERE Title LIKE CONCAT('%', keyword, '%') \n",
    "        OR Publisher LIKE CONCAT('%', keyword, '%') \n",
    "        OR ISBN LIKE CONCAT('%', keyword, '%');\n",
    "END;\n",
    "\"\"\"\n",
    "conn.execute(resource_search)"
   ]
  },
  {
   "cell_type": "markdown",
   "metadata": {},
   "source": [
    "## Populating the data"
   ]
  },
  {
   "cell_type": "markdown",
   "metadata": {},
   "source": [
    "### Inserting the values to the sql"
   ]
  },
  {
   "cell_type": "markdown",
   "metadata": {},
   "source": [
    "#### Inserting Values to Subject"
   ]
  },
  {
   "cell_type": "code",
   "execution_count": 9,
   "metadata": {},
   "outputs": [
    {
     "data": {
      "text/html": [
       "<div>\n",
       "<style scoped>\n",
       "    .dataframe tbody tr th:only-of-type {\n",
       "        vertical-align: middle;\n",
       "    }\n",
       "\n",
       "    .dataframe tbody tr th {\n",
       "        vertical-align: top;\n",
       "    }\n",
       "\n",
       "    .dataframe thead th {\n",
       "        text-align: right;\n",
       "    }\n",
       "</style>\n",
       "<table border=\"1\" class=\"dataframe\">\n",
       "  <thead>\n",
       "    <tr style=\"text-align: right;\">\n",
       "      <th></th>\n",
       "      <th>SubjectID</th>\n",
       "      <th>SubjectName</th>\n",
       "      <th>Description</th>\n",
       "    </tr>\n",
       "  </thead>\n",
       "  <tbody>\n",
       "    <tr>\n",
       "      <th>0</th>\n",
       "      <td>1</td>\n",
       "      <td>Computer Science</td>\n",
       "      <td>Covers topics like AI, Machine Learning, etc.</td>\n",
       "    </tr>\n",
       "    <tr>\n",
       "      <th>1</th>\n",
       "      <td>2</td>\n",
       "      <td>Mathematics</td>\n",
       "      <td>Includes Calculus, Algebra, etc.</td>\n",
       "    </tr>\n",
       "    <tr>\n",
       "      <th>2</th>\n",
       "      <td>3</td>\n",
       "      <td>Literature</td>\n",
       "      <td>Explores various literary genres and authors.</td>\n",
       "    </tr>\n",
       "    <tr>\n",
       "      <th>3</th>\n",
       "      <td>4</td>\n",
       "      <td>Science Fiction</td>\n",
       "      <td>Focuses on stories set in the future.</td>\n",
       "    </tr>\n",
       "  </tbody>\n",
       "</table>\n",
       "</div>"
      ],
      "text/plain": [
       "   SubjectID       SubjectName                                    Description\n",
       "0          1  Computer Science  Covers topics like AI, Machine Learning, etc.\n",
       "1          2       Mathematics               Includes Calculus, Algebra, etc.\n",
       "2          3        Literature  Explores various literary genres and authors.\n",
       "3          4   Science Fiction          Focuses on stories set in the future."
      ]
     },
     "execution_count": 9,
     "metadata": {},
     "output_type": "execute_result"
    }
   ],
   "source": [
    "df_subject = pd.read_excel(\"University_Database.xlsx\",sheet_name=\"Subject\")\n",
    "df_subject.head()"
   ]
  },
  {
   "cell_type": "code",
   "execution_count": 10,
   "metadata": {},
   "outputs": [],
   "source": [
    "insert_SQL=\"\"\"INSERT INTO Subjects (SubjectID ,SubjectName,Description)\n",
    "VALUES (%s,%s,%s)\"\"\"\n",
    "for _,row in df_subject.iterrows():\n",
    "    conn.execute(insert_SQL,(row['SubjectID'],\n",
    "                            row['SubjectName'],\n",
    "                            row['Description']))\n",
    "                        \n",
    "mydb.commit()"
   ]
  },
  {
   "cell_type": "code",
   "execution_count": 11,
   "metadata": {},
   "outputs": [
    {
     "name": "stdout",
     "output_type": "stream",
     "text": [
      "(1, 'Computer Science', 'Covers topics like AI, Machine Learning, etc.')\n",
      "(2, 'Mathematics', 'Includes Calculus, Algebra, etc.')\n",
      "(3, 'Literature', 'Explores various literary genres and authors.')\n",
      "(4, 'Science Fiction', 'Focuses on stories set in the future.')\n"
     ]
    }
   ],
   "source": [
    "query_subject=\"\"\" \n",
    "SELECT * FROM Subjects\n",
    "\"\"\"\n",
    "conn.execute(query_subject)\n",
    "\n",
    "for row in conn:\n",
    "    print(row)"
   ]
  },
  {
   "cell_type": "markdown",
   "metadata": {},
   "source": [
    "#### Inserting values to Authors"
   ]
  },
  {
   "cell_type": "code",
   "execution_count": 12,
   "metadata": {},
   "outputs": [
    {
     "data": {
      "text/html": [
       "<div>\n",
       "<style scoped>\n",
       "    .dataframe tbody tr th:only-of-type {\n",
       "        vertical-align: middle;\n",
       "    }\n",
       "\n",
       "    .dataframe tbody tr th {\n",
       "        vertical-align: top;\n",
       "    }\n",
       "\n",
       "    .dataframe thead th {\n",
       "        text-align: right;\n",
       "    }\n",
       "</style>\n",
       "<table border=\"1\" class=\"dataframe\">\n",
       "  <thead>\n",
       "    <tr style=\"text-align: right;\">\n",
       "      <th></th>\n",
       "      <th>AuthorID</th>\n",
       "      <th>Name</th>\n",
       "      <th>Affiliation</th>\n",
       "    </tr>\n",
       "  </thead>\n",
       "  <tbody>\n",
       "    <tr>\n",
       "      <th>0</th>\n",
       "      <td>1</td>\n",
       "      <td>John Smith</td>\n",
       "      <td>MIT</td>\n",
       "    </tr>\n",
       "    <tr>\n",
       "      <th>1</th>\n",
       "      <td>2</td>\n",
       "      <td>Jane Doe</td>\n",
       "      <td>Stanford</td>\n",
       "    </tr>\n",
       "    <tr>\n",
       "      <th>2</th>\n",
       "      <td>3</td>\n",
       "      <td>Michael Brown</td>\n",
       "      <td>Harvard</td>\n",
       "    </tr>\n",
       "    <tr>\n",
       "      <th>3</th>\n",
       "      <td>4</td>\n",
       "      <td>William Shakespeare</td>\n",
       "      <td>Public Domain</td>\n",
       "    </tr>\n",
       "    <tr>\n",
       "      <th>4</th>\n",
       "      <td>5</td>\n",
       "      <td>Christopher Marlowe</td>\n",
       "      <td>Public Domain</td>\n",
       "    </tr>\n",
       "  </tbody>\n",
       "</table>\n",
       "</div>"
      ],
      "text/plain": [
       "   AuthorID                 Name    Affiliation\n",
       "0         1           John Smith            MIT\n",
       "1         2             Jane Doe       Stanford\n",
       "2         3        Michael Brown        Harvard\n",
       "3         4  William Shakespeare  Public Domain\n",
       "4         5  Christopher Marlowe  Public Domain"
      ]
     },
     "execution_count": 12,
     "metadata": {},
     "output_type": "execute_result"
    }
   ],
   "source": [
    "df_authors = pd.read_excel(\"University_Database.xlsx\",sheet_name=\"Authors\")\n",
    "df_authors.head()"
   ]
  },
  {
   "cell_type": "code",
   "execution_count": 13,
   "metadata": {},
   "outputs": [],
   "source": [
    "insert_SQL=\"\"\"INSERT INTO Authors (AuthorID,Name,Affiliation)\n",
    "VALUES (%s,%s,%s)\"\"\"\n",
    "for _,row in df_authors.iterrows():\n",
    "    conn.execute(insert_SQL,(row['AuthorID'],\n",
    "                            row['Name'],\n",
    "                            row['Affiliation']))\n",
    "                        \n",
    "mydb.commit()"
   ]
  },
  {
   "cell_type": "code",
   "execution_count": 14,
   "metadata": {},
   "outputs": [
    {
     "name": "stdout",
     "output_type": "stream",
     "text": [
      "(1, 'John Smith', 'MIT')\n",
      "(2, 'Jane Doe', 'Stanford')\n",
      "(3, 'Michael Brown', 'Harvard')\n",
      "(4, 'William Shakespeare', 'Public Domain')\n",
      "(5, 'Christopher Marlowe', 'Public Domain')\n",
      "(6, 'Ray Bradbury', 'Public Domain')\n"
     ]
    }
   ],
   "source": [
    "query_Authors=\"\"\" \n",
    "SELECT * FROM Authors\n",
    "\"\"\"\n",
    "conn.execute(query_Authors)\n",
    "\n",
    "for row in conn:\n",
    "    print(row)"
   ]
  },
  {
   "cell_type": "markdown",
   "metadata": {},
   "source": [
    "#### Inserting values in UserTypes"
   ]
  },
  {
   "cell_type": "code",
   "execution_count": 15,
   "metadata": {},
   "outputs": [
    {
     "data": {
      "text/html": [
       "<div>\n",
       "<style scoped>\n",
       "    .dataframe tbody tr th:only-of-type {\n",
       "        vertical-align: middle;\n",
       "    }\n",
       "\n",
       "    .dataframe tbody tr th {\n",
       "        vertical-align: top;\n",
       "    }\n",
       "\n",
       "    .dataframe thead th {\n",
       "        text-align: right;\n",
       "    }\n",
       "</style>\n",
       "<table border=\"1\" class=\"dataframe\">\n",
       "  <thead>\n",
       "    <tr style=\"text-align: right;\">\n",
       "      <th></th>\n",
       "      <th>UserTypeID</th>\n",
       "      <th>TypeName</th>\n",
       "      <th>Accesslevel</th>\n",
       "      <th>BorrowingLimit</th>\n",
       "    </tr>\n",
       "  </thead>\n",
       "  <tbody>\n",
       "    <tr>\n",
       "      <th>0</th>\n",
       "      <td>1</td>\n",
       "      <td>Student</td>\n",
       "      <td>Basic</td>\n",
       "      <td>3</td>\n",
       "    </tr>\n",
       "    <tr>\n",
       "      <th>1</th>\n",
       "      <td>2</td>\n",
       "      <td>Faculty</td>\n",
       "      <td>Extended</td>\n",
       "      <td>5</td>\n",
       "    </tr>\n",
       "    <tr>\n",
       "      <th>2</th>\n",
       "      <td>3</td>\n",
       "      <td>Staff</td>\n",
       "      <td>Basic</td>\n",
       "      <td>2</td>\n",
       "    </tr>\n",
       "  </tbody>\n",
       "</table>\n",
       "</div>"
      ],
      "text/plain": [
       "   UserTypeID TypeName Accesslevel  BorrowingLimit\n",
       "0           1  Student       Basic               3\n",
       "1           2  Faculty    Extended               5\n",
       "2           3    Staff       Basic               2"
      ]
     },
     "execution_count": 15,
     "metadata": {},
     "output_type": "execute_result"
    }
   ],
   "source": [
    "df_user_type = pd.read_excel(\"University_Database.xlsx\",sheet_name=\"User_Type\")\n",
    "df_user_type.head()"
   ]
  },
  {
   "cell_type": "code",
   "execution_count": 16,
   "metadata": {},
   "outputs": [],
   "source": [
    "insert_SQL=\"\"\"INSERT INTO UserTypes (UserTypeID,TypeName,Accesslevel,BorrowingLimit)\n",
    "VALUES (%s,%s,%s,%s)\"\"\"\n",
    "for _,row in df_user_type.iterrows():\n",
    "    conn.execute(insert_SQL,(row['UserTypeID'],\n",
    "                            row['TypeName'],\n",
    "                            row['Accesslevel'],\n",
    "                            row['BorrowingLimit']))\n",
    "                        \n",
    "mydb.commit()"
   ]
  },
  {
   "cell_type": "code",
   "execution_count": 17,
   "metadata": {},
   "outputs": [
    {
     "name": "stdout",
     "output_type": "stream",
     "text": [
      "(1, 'Student', 'Basic', 3)\n",
      "(2, 'Faculty', 'Extended', 5)\n",
      "(3, 'Staff', 'Basic', 2)\n"
     ]
    }
   ],
   "source": [
    "query_user_types=\"\"\" \n",
    "SELECT * FROM UserTypes\n",
    "\"\"\"\n",
    "conn.execute(query_user_types)\n",
    "\n",
    "for row in conn:\n",
    "    print(row)"
   ]
  },
  {
   "cell_type": "markdown",
   "metadata": {},
   "source": [
    "#### Inserting values in Users"
   ]
  },
  {
   "cell_type": "code",
   "execution_count": 18,
   "metadata": {},
   "outputs": [
    {
     "data": {
      "text/html": [
       "<div>\n",
       "<style scoped>\n",
       "    .dataframe tbody tr th:only-of-type {\n",
       "        vertical-align: middle;\n",
       "    }\n",
       "\n",
       "    .dataframe tbody tr th {\n",
       "        vertical-align: top;\n",
       "    }\n",
       "\n",
       "    .dataframe thead th {\n",
       "        text-align: right;\n",
       "    }\n",
       "</style>\n",
       "<table border=\"1\" class=\"dataframe\">\n",
       "  <thead>\n",
       "    <tr style=\"text-align: right;\">\n",
       "      <th></th>\n",
       "      <th>UserID</th>\n",
       "      <th>Name</th>\n",
       "      <th>Email</th>\n",
       "      <th>Department</th>\n",
       "      <th>UserTypeID</th>\n",
       "    </tr>\n",
       "  </thead>\n",
       "  <tbody>\n",
       "    <tr>\n",
       "      <th>0</th>\n",
       "      <td>1</td>\n",
       "      <td>Alice Student</td>\n",
       "      <td>[email address removed]</td>\n",
       "      <td>Computer Science</td>\n",
       "      <td>1</td>\n",
       "    </tr>\n",
       "    <tr>\n",
       "      <th>1</th>\n",
       "      <td>2</td>\n",
       "      <td>Bob Faculty</td>\n",
       "      <td>[email address removed]</td>\n",
       "      <td>Engineering</td>\n",
       "      <td>2</td>\n",
       "    </tr>\n",
       "    <tr>\n",
       "      <th>2</th>\n",
       "      <td>3</td>\n",
       "      <td>Charlie Staff</td>\n",
       "      <td>[email address removed]</td>\n",
       "      <td>Administration</td>\n",
       "      <td>3</td>\n",
       "    </tr>\n",
       "  </tbody>\n",
       "</table>\n",
       "</div>"
      ],
      "text/plain": [
       "   UserID           Name                    Email        Department  \\\n",
       "0       1  Alice Student  [email address removed]  Computer Science   \n",
       "1       2    Bob Faculty  [email address removed]       Engineering   \n",
       "2       3  Charlie Staff  [email address removed]    Administration   \n",
       "\n",
       "   UserTypeID  \n",
       "0           1  \n",
       "1           2  \n",
       "2           3  "
      ]
     },
     "execution_count": 18,
     "metadata": {},
     "output_type": "execute_result"
    }
   ],
   "source": [
    "df_user = pd.read_excel(\"University_Database.xlsx\",sheet_name=\"Users\")\n",
    "df_user.head()"
   ]
  },
  {
   "cell_type": "code",
   "execution_count": 19,
   "metadata": {},
   "outputs": [],
   "source": [
    "insert_SQL=\"\"\"INSERT INTO Users (UserID,Name,Email,Department,UserTypeID)\n",
    "VALUES (%s,%s,%s,%s,%s)\"\"\"\n",
    "for _,row in df_user.iterrows():\n",
    "    conn.execute(insert_SQL,(row['UserID'],\n",
    "                            row['Name'],\n",
    "                            row['Email'],\n",
    "                            row['Department'],\n",
    "                            row['UserTypeID']))\n",
    "                        \n",
    "mydb.commit()"
   ]
  },
  {
   "cell_type": "code",
   "execution_count": 20,
   "metadata": {},
   "outputs": [
    {
     "name": "stdout",
     "output_type": "stream",
     "text": [
      "(1, 'Alice Student', '[email address removed]', 'Computer Science', None, 1)\n",
      "(2, 'Bob Faculty', '[email address removed]', 'Engineering', None, 2)\n",
      "(3, 'Charlie Staff', '[email address removed]', 'Administration', None, 3)\n"
     ]
    }
   ],
   "source": [
    "query_users=\"\"\" \n",
    "SELECT * FROM Users\n",
    "\"\"\"\n",
    "conn.execute(query_users)\n",
    "\n",
    "for row in conn:\n",
    "    print(row)"
   ]
  },
  {
   "cell_type": "markdown",
   "metadata": {},
   "source": [
    "#### Inserting values into Resources"
   ]
  },
  {
   "cell_type": "code",
   "execution_count": 21,
   "metadata": {},
   "outputs": [
    {
     "data": {
      "text/html": [
       "<div>\n",
       "<style scoped>\n",
       "    .dataframe tbody tr th:only-of-type {\n",
       "        vertical-align: middle;\n",
       "    }\n",
       "\n",
       "    .dataframe tbody tr th {\n",
       "        vertical-align: top;\n",
       "    }\n",
       "\n",
       "    .dataframe thead th {\n",
       "        text-align: right;\n",
       "    }\n",
       "</style>\n",
       "<table border=\"1\" class=\"dataframe\">\n",
       "  <thead>\n",
       "    <tr style=\"text-align: right;\">\n",
       "      <th></th>\n",
       "      <th>ResourceID</th>\n",
       "      <th>Title</th>\n",
       "      <th>AuthorID</th>\n",
       "      <th>SubjectID</th>\n",
       "      <th>PublicationDate</th>\n",
       "      <th>Publisher</th>\n",
       "      <th>ISBN</th>\n",
       "      <th>Format</th>\n",
       "    </tr>\n",
       "  </thead>\n",
       "  <tbody>\n",
       "    <tr>\n",
       "      <th>0</th>\n",
       "      <td>1</td>\n",
       "      <td>Intro to AI</td>\n",
       "      <td>1</td>\n",
       "      <td>1</td>\n",
       "      <td>2023-01-01 00:00:00</td>\n",
       "      <td>Tech Publications</td>\n",
       "      <td>978-1234567890</td>\n",
       "      <td>Physical</td>\n",
       "    </tr>\n",
       "    <tr>\n",
       "      <th>1</th>\n",
       "      <td>2</td>\n",
       "      <td>Machine Learning Basics</td>\n",
       "      <td>2</td>\n",
       "      <td>1</td>\n",
       "      <td>2022-05-10 00:00:00</td>\n",
       "      <td>O'Reilly Media</td>\n",
       "      <td>978-0987654321</td>\n",
       "      <td>Digital</td>\n",
       "    </tr>\n",
       "    <tr>\n",
       "      <th>2</th>\n",
       "      <td>3</td>\n",
       "      <td>Calculus for Dummies</td>\n",
       "      <td>3</td>\n",
       "      <td>2</td>\n",
       "      <td>2020-12-31 00:00:00</td>\n",
       "      <td>Wiley</td>\n",
       "      <td>NaN</td>\n",
       "      <td>Physical</td>\n",
       "    </tr>\n",
       "    <tr>\n",
       "      <th>3</th>\n",
       "      <td>4</td>\n",
       "      <td>Shakespeare's Sonnets</td>\n",
       "      <td>4</td>\n",
       "      <td>3</td>\n",
       "      <td>1609-01-01</td>\n",
       "      <td>Public Domain</td>\n",
       "      <td>NaN</td>\n",
       "      <td>Physical</td>\n",
       "    </tr>\n",
       "    <tr>\n",
       "      <th>4</th>\n",
       "      <td>5</td>\n",
       "      <td>Shakespeare's Sonnets</td>\n",
       "      <td>5</td>\n",
       "      <td>3</td>\n",
       "      <td>1609-01-01</td>\n",
       "      <td>Public Domain</td>\n",
       "      <td>NaN</td>\n",
       "      <td>Physical</td>\n",
       "    </tr>\n",
       "  </tbody>\n",
       "</table>\n",
       "</div>"
      ],
      "text/plain": [
       "   ResourceID                    Title  AuthorID  SubjectID  \\\n",
       "0           1              Intro to AI         1          1   \n",
       "1           2  Machine Learning Basics         2          1   \n",
       "2           3     Calculus for Dummies         3          2   \n",
       "3           4    Shakespeare's Sonnets         4          3   \n",
       "4           5    Shakespeare's Sonnets         5          3   \n",
       "\n",
       "       PublicationDate          Publisher            ISBN    Format  \n",
       "0  2023-01-01 00:00:00  Tech Publications  978-1234567890  Physical  \n",
       "1  2022-05-10 00:00:00     O'Reilly Media  978-0987654321   Digital  \n",
       "2  2020-12-31 00:00:00              Wiley             NaN  Physical  \n",
       "3           1609-01-01      Public Domain             NaN  Physical  \n",
       "4           1609-01-01      Public Domain             NaN  Physical  "
      ]
     },
     "execution_count": 21,
     "metadata": {},
     "output_type": "execute_result"
    }
   ],
   "source": [
    "df_Resources = pd.read_excel(\"University_Database.xlsx\",sheet_name=\"Resources\")\n",
    "df_Resources.head()"
   ]
  },
  {
   "cell_type": "code",
   "execution_count": 22,
   "metadata": {},
   "outputs": [
    {
     "data": {
      "text/html": [
       "<div>\n",
       "<style scoped>\n",
       "    .dataframe tbody tr th:only-of-type {\n",
       "        vertical-align: middle;\n",
       "    }\n",
       "\n",
       "    .dataframe tbody tr th {\n",
       "        vertical-align: top;\n",
       "    }\n",
       "\n",
       "    .dataframe thead th {\n",
       "        text-align: right;\n",
       "    }\n",
       "</style>\n",
       "<table border=\"1\" class=\"dataframe\">\n",
       "  <thead>\n",
       "    <tr style=\"text-align: right;\">\n",
       "      <th></th>\n",
       "      <th>ResourceID</th>\n",
       "      <th>Title</th>\n",
       "      <th>AuthorID</th>\n",
       "      <th>SubjectID</th>\n",
       "      <th>PublicationDate</th>\n",
       "      <th>Publisher</th>\n",
       "      <th>ISBN</th>\n",
       "      <th>Format</th>\n",
       "    </tr>\n",
       "  </thead>\n",
       "  <tbody>\n",
       "    <tr>\n",
       "      <th>0</th>\n",
       "      <td>1</td>\n",
       "      <td>Intro to AI</td>\n",
       "      <td>1</td>\n",
       "      <td>1</td>\n",
       "      <td>2023-01-01 00:00:00</td>\n",
       "      <td>Tech Publications</td>\n",
       "      <td>978-1234567890</td>\n",
       "      <td>Physical</td>\n",
       "    </tr>\n",
       "    <tr>\n",
       "      <th>1</th>\n",
       "      <td>2</td>\n",
       "      <td>Machine Learning Basics</td>\n",
       "      <td>2</td>\n",
       "      <td>1</td>\n",
       "      <td>2022-05-10 00:00:00</td>\n",
       "      <td>O'Reilly Media</td>\n",
       "      <td>978-0987654321</td>\n",
       "      <td>Digital</td>\n",
       "    </tr>\n",
       "    <tr>\n",
       "      <th>2</th>\n",
       "      <td>3</td>\n",
       "      <td>Calculus for Dummies</td>\n",
       "      <td>3</td>\n",
       "      <td>2</td>\n",
       "      <td>2020-12-31 00:00:00</td>\n",
       "      <td>Wiley</td>\n",
       "      <td>[Has No value]</td>\n",
       "      <td>Physical</td>\n",
       "    </tr>\n",
       "    <tr>\n",
       "      <th>3</th>\n",
       "      <td>4</td>\n",
       "      <td>Shakespeare's Sonnets</td>\n",
       "      <td>4</td>\n",
       "      <td>3</td>\n",
       "      <td>1609-01-01</td>\n",
       "      <td>Public Domain</td>\n",
       "      <td>[Has No value]</td>\n",
       "      <td>Physical</td>\n",
       "    </tr>\n",
       "    <tr>\n",
       "      <th>4</th>\n",
       "      <td>5</td>\n",
       "      <td>Shakespeare's Sonnets</td>\n",
       "      <td>5</td>\n",
       "      <td>3</td>\n",
       "      <td>1609-01-01</td>\n",
       "      <td>Public Domain</td>\n",
       "      <td>[Has No value]</td>\n",
       "      <td>Physical</td>\n",
       "    </tr>\n",
       "  </tbody>\n",
       "</table>\n",
       "</div>"
      ],
      "text/plain": [
       "   ResourceID                    Title  AuthorID  SubjectID  \\\n",
       "0           1              Intro to AI         1          1   \n",
       "1           2  Machine Learning Basics         2          1   \n",
       "2           3     Calculus for Dummies         3          2   \n",
       "3           4    Shakespeare's Sonnets         4          3   \n",
       "4           5    Shakespeare's Sonnets         5          3   \n",
       "\n",
       "       PublicationDate          Publisher            ISBN    Format  \n",
       "0  2023-01-01 00:00:00  Tech Publications  978-1234567890  Physical  \n",
       "1  2022-05-10 00:00:00     O'Reilly Media  978-0987654321   Digital  \n",
       "2  2020-12-31 00:00:00              Wiley  [Has No value]  Physical  \n",
       "3           1609-01-01      Public Domain  [Has No value]  Physical  \n",
       "4           1609-01-01      Public Domain  [Has No value]  Physical  "
      ]
     },
     "execution_count": 22,
     "metadata": {},
     "output_type": "execute_result"
    }
   ],
   "source": [
    "df_Resources.fillna(\"[Has No value]\",inplace=True)\n",
    "df_Resources.head()"
   ]
  },
  {
   "cell_type": "code",
   "execution_count": 23,
   "metadata": {},
   "outputs": [],
   "source": [
    "insert_SQL=\"\"\"INSERT INTO Resources (ResourceID,Title,AuthorID,SubjectID,PublicationDate,Publisher,ISBN,Format)\n",
    "VALUES (%s,%s,%s,%s,%s,%s,%s,%s)\"\"\"\n",
    "for _,row in df_Resources.iterrows():\n",
    "    conn.execute(insert_SQL,(row['ResourceID'],\n",
    "                            row['Title'],\n",
    "                            row['AuthorID'],\n",
    "                            row['SubjectID'],\n",
    "                            row['PublicationDate'],\n",
    "                            row['Publisher'],\n",
    "                            row['ISBN'],\n",
    "                            row['Format'],))\n",
    "                        \n",
    "mydb.commit()"
   ]
  },
  {
   "cell_type": "code",
   "execution_count": 24,
   "metadata": {},
   "outputs": [
    {
     "name": "stdout",
     "output_type": "stream",
     "text": [
      "(1, 'Intro to AI', datetime.date(2023, 1, 1), 'Tech Publications', '978-123456789', 'Physical', 1, 1)\n",
      "(2, 'Machine Learning Basics', datetime.date(2022, 5, 10), \"O'Reilly Media\", '978-098765432', 'Digital', 1, 2)\n",
      "(3, 'Calculus for Dummies', datetime.date(2020, 12, 31), 'Wiley', '[Has No value', 'Physical', 2, 3)\n",
      "(4, \"Shakespeare's Sonnets\", datetime.date(1609, 1, 1), 'Public Domain', '[Has No value', 'Physical', 3, 4)\n",
      "(5, \"Shakespeare's Sonnets\", datetime.date(1609, 1, 1), 'Public Domain', '[Has No value', 'Physical', 3, 5)\n",
      "(6, 'The Martian Chronicles', datetime.date(1950, 10, 26), 'Bantam Books', '[Has No value', 'Digital', 4, 6)\n"
     ]
    }
   ],
   "source": [
    "query_Resources=\"\"\" \n",
    "SELECT * FROM Resources\n",
    "\"\"\"\n",
    "conn.execute(query_Resources)\n",
    "\n",
    "for row in conn:\n",
    "    print(row)"
   ]
  },
  {
   "cell_type": "markdown",
   "metadata": {},
   "source": [
    "#### Inserting values in BorrowingRecords"
   ]
  },
  {
   "cell_type": "code",
   "execution_count": 25,
   "metadata": {},
   "outputs": [],
   "source": [
    "insert_borrowing_SQL = \"\"\"INSERT INTO BorrowingRecords (UserID, ResourceID, BorrowedDate, DueDate, ReturnedDate)\n",
    "VALUES (%s, %s, %s, %s, %s)\"\"\"\n",
    "\n",
    "borrowing_data = [\n",
    "    (1, 1, '2024-01-15', '2024-02-15', None),  \n",
    "    (1, 2, '2024-01-20', '2024-02-20', '2024-02-10'), \n",
    "    (2, 3, '2024-01-18', '2024-02-18', None),  \n",
    "    (3, 4, '2024-01-25', '2024-02-25', None),  \n",
    "    (2, 5, '2024-01-30', '2024-02-28', '2024-02-27'),  \n",
    "]\n",
    "\n",
    "for record in borrowing_data:\n",
    "    conn.execute(insert_borrowing_SQL, record)\n",
    "\n",
    "mydb.commit()"
   ]
  },
  {
   "cell_type": "code",
   "execution_count": 26,
   "metadata": {},
   "outputs": [
    {
     "name": "stdout",
     "output_type": "stream",
     "text": [
      "Borrowing Records:\n",
      "(1, 1, 1, datetime.date(2024, 1, 15), datetime.date(2024, 2, 15), None)\n",
      "(2, 1, 2, datetime.date(2024, 1, 20), datetime.date(2024, 2, 20), datetime.date(2024, 2, 10))\n",
      "(3, 2, 3, datetime.date(2024, 1, 18), datetime.date(2024, 2, 18), None)\n",
      "(4, 3, 4, datetime.date(2024, 1, 25), datetime.date(2024, 2, 25), None)\n",
      "(5, 2, 5, datetime.date(2024, 1, 30), datetime.date(2024, 2, 28), datetime.date(2024, 2, 27))\n"
     ]
    }
   ],
   "source": [
    "query_borrowing = \"\"\" \n",
    "SELECT * FROM BorrowingRecords\n",
    "\"\"\"\n",
    "conn.execute(query_borrowing)\n",
    "\n",
    "print(\"Borrowing Records:\")\n",
    "for row in conn:\n",
    "    print(row)"
   ]
  },
  {
   "cell_type": "markdown",
   "metadata": {},
   "source": [
    "#### Inserting values in fines"
   ]
  },
  {
   "cell_type": "code",
   "execution_count": 27,
   "metadata": {},
   "outputs": [],
   "source": [
    "insert_fine_SQL = \"\"\"INSERT INTO Fines (BorrowingRecordID, FineAmount, PaymentDate)\n",
    "VALUES (%s, %s, %s)\"\"\"\n",
    "\n",
    "fine_data = [\n",
    "    (1, 10.00, '2024-02-16'),  \n",
    "    (2, 0.00, None),           \n",
    "    (3, 5.00, '2024-02-20'),   \n",
    "]\n",
    "\n",
    "for record in fine_data:\n",
    "    conn.execute(insert_fine_SQL, record)\n",
    "\n",
    "mydb.commit()"
   ]
  },
  {
   "cell_type": "code",
   "execution_count": 28,
   "metadata": {},
   "outputs": [
    {
     "name": "stdout",
     "output_type": "stream",
     "text": [
      "\n",
      "Fines Records:\n",
      "(1, 1, Decimal('10.00'), datetime.date(2024, 2, 16))\n",
      "(2, 2, Decimal('0.00'), None)\n",
      "(3, 3, Decimal('5.00'), datetime.date(2024, 2, 20))\n"
     ]
    }
   ],
   "source": [
    "query_fines = \"\"\" \n",
    "SELECT * FROM Fines\n",
    "\"\"\"\n",
    "conn.execute(query_fines)\n",
    "\n",
    "print(\"\\nFines Records:\")\n",
    "for row in conn:\n",
    "    print(row)"
   ]
  },
  {
   "cell_type": "markdown",
   "metadata": {},
   "source": [
    "#### Inserting values in Keywords"
   ]
  },
  {
   "cell_type": "code",
   "execution_count": 29,
   "metadata": {},
   "outputs": [],
   "source": [
    "insert_keyword_SQL = \"\"\"INSERT INTO Keywords (KeywordText)\n",
    "VALUES (%s)\"\"\"\n",
    "\n",
    "keyword_data = [\n",
    "    ('AI'),\n",
    "('Machine Learning'),\n",
    "('Calculus'),\n",
    "('Literature'),\n",
    "('Science Fiction'),\n",
    "]\n",
    "\n",
    "for keyword in keyword_data:\n",
    "    conn.execute(insert_keyword_SQL, (keyword,))  \n",
    "\n",
    "mydb.commit()\n"
   ]
  },
  {
   "cell_type": "code",
   "execution_count": 30,
   "metadata": {},
   "outputs": [
    {
     "name": "stdout",
     "output_type": "stream",
     "text": [
      "\n",
      "Keywords:\n",
      "(1, 'AI')\n",
      "(2, 'Machine Learning')\n",
      "(3, 'Calculus')\n",
      "(4, 'Literature')\n",
      "(5, 'Science Fiction')\n"
     ]
    }
   ],
   "source": [
    "query_keywords = \"\"\" \n",
    "SELECT * FROM Keywords\n",
    "\"\"\"\n",
    "conn.execute(query_keywords)\n",
    "\n",
    "print(\"\\nKeywords:\")\n",
    "for row in conn:\n",
    "    print(row)"
   ]
  },
  {
   "cell_type": "markdown",
   "metadata": {},
   "source": [
    "#### Inserting values in Resourceskeywords"
   ]
  },
  {
   "cell_type": "code",
   "execution_count": 31,
   "metadata": {},
   "outputs": [],
   "source": [
    "resource_keywords_data = [\n",
    "    (1, 1),  \n",
    "    (2, 1),  \n",
    "    (2, 2),  \n",
    "    (3, 3),  \n",
    "    (4, 4),  \n",
    "    (5, 5),\n",
    "]\n",
    "\n",
    "insert_resource_keyword_SQL = \"\"\"INSERT INTO ResourceKeywords (ResourceID, KeywordID)\n",
    "VALUES (%s, %s)\"\"\"\n",
    "\n",
    "for record in resource_keywords_data:\n",
    "    conn.execute(insert_resource_keyword_SQL, record)\n",
    "\n",
    "mydb.commit()"
   ]
  },
  {
   "cell_type": "code",
   "execution_count": 32,
   "metadata": {},
   "outputs": [
    {
     "name": "stdout",
     "output_type": "stream",
     "text": [
      "\n",
      "Resource-Keywords relationship:\n",
      "(1, 1)\n",
      "(2, 1)\n",
      "(2, 2)\n",
      "(3, 3)\n",
      "(4, 4)\n",
      "(5, 5)\n"
     ]
    }
   ],
   "source": [
    "query_resource_keywords = \"\"\" \n",
    "SELECT * FROM ResourceKeywords\n",
    "\"\"\"\n",
    "conn.execute(query_resource_keywords)\n",
    "\n",
    "print(\"\\nResource-Keywords relationship:\")\n",
    "for row in conn:\n",
    "    print(row)"
   ]
  },
  {
   "cell_type": "markdown",
   "metadata": {},
   "source": [
    "#### Inserting values in Reviews"
   ]
  },
  {
   "cell_type": "code",
   "execution_count": 33,
   "metadata": {},
   "outputs": [],
   "source": [
    "insert_review_SQL = \"\"\"INSERT INTO Reviews (UserID, ResourceID, Rating, ReviewText)\n",
    "VALUES (%s, %s, %s, %s)\"\"\"\n",
    "\n",
    "review_data = [\n",
    "    (1, 1, 5, 'An excellent introduction to AI! Highly recommend.'),\n",
    "    (2, 2, 4, 'Great resource for beginners in machine learning.'),\n",
    "    (3, 3, 3, 'Helpful for calculus, but lacks depth in some areas.'),\n",
    "    (1, 4, 5, 'A classic work of literature! Timeless.'),\n",
    "    (2, 5, 4, 'Interesting perspective on Shakespeare’s works.'),\n",
    "    (3, 6, 2, 'Not as engaging as I expected.'),\n",
    "]\n",
    "\n",
    "for review in review_data:\n",
    "    conn.execute(insert_review_SQL, review)\n",
    "\n",
    "mydb.commit()"
   ]
  },
  {
   "cell_type": "code",
   "execution_count": 34,
   "metadata": {},
   "outputs": [
    {
     "name": "stdout",
     "output_type": "stream",
     "text": [
      "\n",
      "Reviews:\n",
      "(1, 1, 1, 5, 'An excellent introduction to AI! Highly recommend.')\n",
      "(2, 2, 2, 4, 'Great resource for beginners in machine learning.')\n",
      "(3, 3, 3, 3, 'Helpful for calculus, but lacks depth in some areas.')\n",
      "(4, 1, 4, 5, 'A classic work of literature! Timeless.')\n",
      "(5, 2, 5, 4, 'Interesting perspective on Shakespeare’s works.')\n",
      "(6, 3, 6, 2, 'Not as engaging as I expected.')\n"
     ]
    }
   ],
   "source": [
    "query_reviews = \"\"\" \n",
    "SELECT * FROM Reviews\n",
    "\"\"\"\n",
    "conn.execute(query_reviews)\n",
    "\n",
    "print(\"\\nReviews:\")\n",
    "for row in conn:\n",
    "    print(row)"
   ]
  },
  {
   "cell_type": "markdown",
   "metadata": {},
   "source": [
    "#### Inserting values in Reservations"
   ]
  },
  {
   "cell_type": "code",
   "execution_count": 35,
   "metadata": {},
   "outputs": [],
   "source": [
    "insert_reservation_SQL = \"\"\"INSERT INTO Reservations (UserID, ResourceID, ReservationDate, Status)\n",
    "VALUES (%s, %s, %s, %s)\"\"\"\n",
    "\n",
    "reservation_data = [\n",
    "    (1, 1, '2024-01-15', 'Approved'),   \n",
    "    (2, 2, '2024-01-10', 'Pending'),     \n",
    "    (3, 3, '2024-01-20', 'Denied'),      \n",
    "    (1, 4, '2024-01-18', 'Approved'),    \n",
    "    (2, 5, '2024-01-25', 'Approved'),    \n",
    "    (3, 6, '2024-01-22', 'Pending'),     \n",
    "]\n",
    "\n",
    "for record in reservation_data:\n",
    "    conn.execute(insert_reservation_SQL, record)\n",
    "\n",
    "mydb.commit()"
   ]
  },
  {
   "cell_type": "code",
   "execution_count": 36,
   "metadata": {},
   "outputs": [
    {
     "name": "stdout",
     "output_type": "stream",
     "text": [
      "\n",
      "Reviews:\n",
      "(1, 1, 1, datetime.date(2024, 1, 15), 'Approved')\n",
      "(2, 2, 2, datetime.date(2024, 1, 10), 'Pending')\n",
      "(3, 3, 3, datetime.date(2024, 1, 20), 'Denied')\n",
      "(4, 1, 4, datetime.date(2024, 1, 18), 'Approved')\n",
      "(5, 2, 5, datetime.date(2024, 1, 25), 'Approved')\n",
      "(6, 3, 6, datetime.date(2024, 1, 22), 'Pending')\n"
     ]
    }
   ],
   "source": [
    "query_reservations = \"\"\" \n",
    "SELECT * FROM Reservations\n",
    "\"\"\"\n",
    "conn.execute(query_reservations)\n",
    "\n",
    "print(\"\\nReviews:\")\n",
    "for row in conn:\n",
    "    print(row)"
   ]
  },
  {
   "cell_type": "markdown",
   "metadata": {},
   "source": [
    "#### A function that can Automate that Process"
   ]
  },
  {
   "cell_type": "code",
   "execution_count": 37,
   "metadata": {},
   "outputs": [],
   "source": [
    "# def process_and_insert_data(file_path, sheet_name, create_connection):\n",
    "#     mydb, conn = create_connection()\n",
    "\n",
    "#     df = pd.read_excel(file_path, sheet_name=sheet_name)\n",
    "\n",
    "#     df.fillna(\"[Has No value]\", inplace=True)\n",
    "\n",
    "#     column_names = []\n",
    "    \n",
    "#     print(\"Enter column names one by one. Type 'done' when finished:\")\n",
    "    \n",
    "#     while True:\n",
    "#         column_name = input(\"Enter column names one by one. Type 'done' when finished: \")\n",
    "#         if column_name.lower() == \"done\":\n",
    "#             break\n",
    "#         column_names.append(column_name.strip())\n",
    "\n",
    "#     placeholders = ', '.join(['%s'] * len(column_names)) \n",
    "#     insert_SQL = f\"\"\"INSERT INTO {sheet_name} ({', '.join(column_names)})\n",
    "#                      VALUES ({placeholders})\"\"\"\n",
    "\n",
    "#     for _, row in df.iterrows():\n",
    "#         conn.execute(insert_SQL, tuple(row[column] for column in column_names))\n",
    "    \n",
    "#     mydb.commit()\n",
    "\n",
    "#     query = f\"SELECT * FROM {sheet_name}\"\n",
    "#     conn.execute(query)\n",
    "\n",
    "#     for row in conn:\n",
    "#         print(row)\n",
    "\n",
    "\n",
    "# # Example usage\n",
    "# file_path = input(\"Please Enter the Path of the file you want to populate data from: \")\n",
    "# sheet_name = input(\"Enter the sheet name (e.g., Resources, Authors, Users, UserTypes, Subjects): \")\n",
    "# process_and_insert_data(file_path, sheet_name, create_connection)\n"
   ]
  },
  {
   "cell_type": "markdown",
   "metadata": {},
   "source": [
    "##### It is working perfectly for me I just highlighted it to not interfere with other codes"
   ]
  },
  {
   "cell_type": "markdown",
   "metadata": {},
   "source": [
    "# Important Note:\n",
    "\n",
    "##### I have written some of the following procedures in the previous sections. \n",
    "##### However, I plan to either improve upon them or present more refined versions below.\n",
    "##### This will ensure that the code is both optimized and better structured for its intended purpose."
   ]
  },
  {
   "cell_type": "markdown",
   "metadata": {},
   "source": [
    "## Advanced SQL Queries"
   ]
  },
  {
   "cell_type": "markdown",
   "metadata": {},
   "source": [
    "### Find all overdue resources for faculty members in the Engineering department who have borrowed more than 5 items in total."
   ]
  },
  {
   "cell_type": "code",
   "execution_count": 38,
   "metadata": {},
   "outputs": [
    {
     "name": "stdout",
     "output_type": "stream",
     "text": [
      "Connection to the database was successful.\n",
      "There are no results\n"
     ]
    }
   ],
   "source": [
    "mydb, conn = create_connection()\n",
    "overdue_resources = \"\"\"\n",
    "SELECT Users.Name, Resources.Title, BorrowingRecords.DueDate\n",
    "FROM BorrowingRecords\n",
    "JOIN Users ON BorrowingRecords.UserID = Users.UserID\n",
    "JOIN Resources ON BorrowingRecords.ResourceID = Resources.ResourceID\n",
    "WHERE Users.UserTypeID = 2 -- Faculty\n",
    "  AND BorrowingRecords.DueDate < CURDATE()  -- Overdue items\n",
    "GROUP BY Users.UserID\n",
    "HAVING COUNT(BorrowingRecords.BorrowingRecordID) > 5;\n",
    "\"\"\"\n",
    "\n",
    "\n",
    "conn.execute(overdue_resources)\n",
    "results = conn.fetchall()\n",
    "\n",
    "if results:\n",
    "    for row in results:\n",
    "        print(f\"User: {row[0]}, Resource: {row[1]}, Due Date: {row[2]}\")\n",
    "else:\n",
    "    print(\"There are no results\")"
   ]
  },
  {
   "cell_type": "markdown",
   "metadata": {},
   "source": [
    "### Identify the Top 3 Most Popular Resources"
   ]
  },
  {
   "cell_type": "code",
   "execution_count": 39,
   "metadata": {},
   "outputs": [
    {
     "name": "stdout",
     "output_type": "stream",
     "text": [
      "Connection to the database was successful.\n",
      "Resource: Shakespeare's Sonnets, Borrow Count: 1, Average Rating: 5.0000\n",
      "Resource: Intro to AI, Borrow Count: 1, Average Rating: 5.0000\n",
      "Resource: Shakespeare's Sonnets, Borrow Count: 1, Average Rating: 4.0000\n"
     ]
    }
   ],
   "source": [
    "mydb, conn = create_connection()\n",
    "top_popular_resources = \"\"\"\n",
    "SELECT Resources.Title, COUNT(BorrowingRecords.BorrowingRecordID) AS BorrowCount, \n",
    "       AVG(Reviews.Rating) AS AverageRating\n",
    "FROM Resources\n",
    "LEFT JOIN BorrowingRecords ON Resources.ResourceID = BorrowingRecords.ResourceID\n",
    "LEFT JOIN Reviews ON Resources.ResourceID = Reviews.ResourceID\n",
    "WHERE Resources.Format IN ('Physical', 'Digital')  \n",
    "GROUP BY Resources.ResourceID\n",
    "ORDER BY BorrowCount DESC, AverageRating DESC\n",
    "LIMIT 3;\n",
    "\"\"\"\n",
    "\n",
    "conn.execute(top_popular_resources)\n",
    "results = conn.fetchall()\n",
    "\n",
    "for row in results:\n",
    "    print(f\"Resource: {row[0]}, Borrow Count: {row[1]}, Average Rating: {row[2]}\")"
   ]
  },
  {
   "cell_type": "markdown",
   "metadata": {},
   "source": [
    "### Generate a Report for Each Department"
   ]
  },
  {
   "cell_type": "code",
   "execution_count": 40,
   "metadata": {},
   "outputs": [
    {
     "name": "stdout",
     "output_type": "stream",
     "text": [
      "No borrowing records found for the last 6 months.\n"
     ]
    }
   ],
   "source": [
    "department_borrowing_report = \"\"\"\n",
    "SELECT Users.Department, COUNT(BorrowingRecords.BorrowingRecordID) AS TotalBorrowed, \n",
    "       SUM(Fines.FineAmount) AS TotalFines\n",
    "FROM BorrowingRecords\n",
    "JOIN Users ON BorrowingRecords.UserID = Users.UserID\n",
    "LEFT JOIN Fines ON BorrowingRecords.BorrowingRecordID = Fines.BorrowingRecordID\n",
    "WHERE BorrowingRecords.BorrowedDate >= DATE_SUB(CURDATE(), INTERVAL 6 MONTH)  \n",
    "GROUP BY Users.Department;\n",
    "\"\"\"\n",
    "conn.execute(department_borrowing_report)\n",
    "results = conn.fetchall()\n",
    "\n",
    "if not results:\n",
    "    print(\"No borrowing records found for the last 6 months.\")\n",
    "else:\n",
    "    # Print the report\n",
    "    print(f\"{'Department':<25}{'Total Borrowed':<15}{'Total Fines':<15}\")\n",
    "    print(\"-\" * 55)\n",
    "    for row in results:\n",
    "        department = row[0]\n",
    "        total_borrowed = row[1]\n",
    "        total_fines = row[2] if row[2] is not None else 0  \n",
    "        print(f\"{department:<25}{total_borrowed:<15}{total_fines:<15}\")"
   ]
  },
  {
   "cell_type": "markdown",
   "metadata": {},
   "source": [
    "### Implement a search function"
   ]
  },
  {
   "cell_type": "code",
   "execution_count": 41,
   "metadata": {},
   "outputs": [
    {
     "name": "stdout",
     "output_type": "stream",
     "text": [
      "Title: Intro to AI, Publication Date: 2023-01-01, Format: Physical\n"
     ]
    }
   ],
   "source": [
    "keyword = 'AI'  \n",
    "format_type = 'Physical'  \n",
    "start_date = '2020-01-01'  \n",
    "end_date = '2024-12-31' \n",
    "\n",
    "keyword_search = \"\"\"\n",
    "SELECT Resources.Title, Resources.PublicationDate, Resources.Format\n",
    "FROM Resources\n",
    "JOIN ResourceKeywords ON Resources.ResourceID = ResourceKeywords.ResourceID\n",
    "JOIN Keywords ON ResourceKeywords.KeywordID = Keywords.KeywordID\n",
    "WHERE Keywords.KeywordText LIKE %s  \n",
    "AND Resources.Format = %s  \n",
    "AND Resources.PublicationDate BETWEEN %s AND %s;  \n",
    "\"\"\"\n",
    "\n",
    "conn.execute(keyword_search, (f'%{keyword}%', format_type, start_date, end_date))\n",
    "results = conn.fetchall()\n",
    "\n",
    "if results:\n",
    "    for row in results:\n",
    "        print(f\"Title: {row[0]}, Publication Date: {row[1]}, Format: {row[2]}\")\n",
    "else:\n",
    "    print(\"No results found.\")"
   ]
  },
  {
   "cell_type": "markdown",
   "metadata": {},
   "source": [
    "### Resource Recommendation Procedure"
   ]
  },
  {
   "cell_type": "code",
   "execution_count": 42,
   "metadata": {},
   "outputs": [
    {
     "name": "stdout",
     "output_type": "stream",
     "text": [
      "Recommended Resources:\n",
      "Title: Intro to AI\n",
      "Title: Machine Learning Basics\n"
     ]
    }
   ],
   "source": [
    "user_id = 1\n",
    "\n",
    "resource_recommendation = \"\"\"\n",
    "SELECT R.Title\n",
    "FROM BorrowingRecords BR\n",
    "JOIN Resources R ON BR.ResourceID = R.ResourceID\n",
    "WHERE BR.UserID = %s\n",
    "GROUP BY R.ResourceID\n",
    "ORDER BY COUNT(BR.BorrowingRecordID) DESC;\n",
    "\"\"\"\n",
    "\n",
    "conn.execute(resource_recommendation, (user_id,))\n",
    "results = conn.fetchall()\n",
    "\n",
    "if results:\n",
    "    print(\"Recommended Resources:\")\n",
    "    for row in results:\n",
    "        print(f\"Title: {row[0]}\")\n",
    "else:\n",
    "    print(\"No recommendations found.\")"
   ]
  },
  {
   "cell_type": "markdown",
   "metadata": {},
   "source": [
    "## Views"
   ]
  },
  {
   "cell_type": "markdown",
   "metadata": {},
   "source": [
    "### Available Resources View"
   ]
  },
  {
   "cell_type": "code",
   "execution_count": null,
   "metadata": {},
   "outputs": [
    {
     "name": "stdout",
     "output_type": "stream",
     "text": [
      "Results for AvailableResources:\n",
      "(2, 'Machine Learning Basics', 'Digital')\n",
      "(6, 'The Martian Chronicles', 'Digital')\n",
      "\n"
     ]
    }
   ],
   "source": [
    "available_resources_sql = \"\"\"\n",
    "CREATE OR REPLACE VIEW AvailableResources AS\n",
    "SELECT R.ResourceID, R.Title, R.Format\n",
    "FROM Resources R\n",
    "LEFT JOIN BorrowingRecords BR ON R.ResourceID = BR.ResourceID\n",
    "GROUP BY R.ResourceID\n",
    "HAVING COUNT(BR.BorrowingRecordID) = 0 OR R.Format = 'Digital';\n",
    "\"\"\"\n",
    "\n",
    "conn.execute(available_resources_sql)\n",
    "\n",
    "print(\"Results for AvailableResources:\")\n",
    "conn.execute(\"SELECT * FROM AvailableResources;\")\n",
    "results = conn.fetchall()\n",
    "if results:\n",
    "    for row in results:\n",
    "        print(row)\n",
    "else:\n",
    "    print(\"No results found.\")\n",
    "print()"
   ]
  },
  {
   "cell_type": "markdown",
   "metadata": {},
   "source": [
    "### User Borrowing Activity View"
   ]
  },
  {
   "cell_type": "code",
   "execution_count": 44,
   "metadata": {},
   "outputs": [
    {
     "name": "stdout",
     "output_type": "stream",
     "text": [
      "Results for UserBorrowingActivity:\n",
      "(1, 'Alice Student', 'Computer Science', 2, Decimal('10.00'))\n",
      "(2, 'Bob Faculty', 'Engineering', 2, Decimal('5.00'))\n",
      "(3, 'Charlie Staff', 'Administration', 1, None)\n",
      "\n"
     ]
    }
   ],
   "source": [
    "user_borrowing_activity_sql = \"\"\"\n",
    "CREATE OR REPLACE VIEW UserBorrowingActivity AS\n",
    "SELECT U.UserID, U.Name, U.Department,\n",
    "       COUNT(BR.BorrowingRecordID) AS TotalBorrows,\n",
    "       SUM(Fines.FineAmount) AS TotalFines\n",
    "FROM Users U\n",
    "LEFT JOIN BorrowingRecords BR ON U.UserID = BR.UserID\n",
    "LEFT JOIN Fines ON BR.BorrowingRecordID = Fines.BorrowingRecordID\n",
    "GROUP BY U.UserID;\n",
    "\"\"\"\n",
    "\n",
    "conn.execute(user_borrowing_activity_sql)\n",
    "\n",
    "print(\"Results for UserBorrowingActivity:\")\n",
    "conn.execute(\"SELECT * FROM UserBorrowingActivity;\")\n",
    "results = conn.fetchall()\n",
    "if results:\n",
    "    for row in results:\n",
    "        print(row)\n",
    "else:\n",
    "    print(\"No results found.\")\n",
    "print()"
   ]
  },
  {
   "cell_type": "markdown",
   "metadata": {},
   "source": [
    "### Top-Rated Resources View"
   ]
  },
  {
   "cell_type": "code",
   "execution_count": 45,
   "metadata": {},
   "outputs": [
    {
     "name": "stdout",
     "output_type": "stream",
     "text": [
      "Results for TopRatedResources:\n",
      "(4, \"Shakespeare's Sonnets\", Decimal('5.0000'))\n",
      "(1, 'Intro to AI', Decimal('5.0000'))\n",
      "(5, \"Shakespeare's Sonnets\", Decimal('4.0000'))\n",
      "(2, 'Machine Learning Basics', Decimal('4.0000'))\n",
      "(3, 'Calculus for Dummies', Decimal('3.0000'))\n",
      "(6, 'The Martian Chronicles', Decimal('2.0000'))\n",
      "\n"
     ]
    }
   ],
   "source": [
    "top_rated_resources_sql = \"\"\"\n",
    "CREATE OR REPLACE VIEW TopRatedResources AS\n",
    "SELECT R.ResourceID, R.Title, AVG(Rev.Rating) AS AverageRating\n",
    "FROM Resources R\n",
    "JOIN Reviews Rev ON R.ResourceID = Rev.ResourceID\n",
    "GROUP BY R.ResourceID\n",
    "HAVING AVG(Rev.Rating) IS NOT NULL\n",
    "ORDER BY AverageRating DESC;\n",
    "\"\"\"\n",
    "\n",
    "# Execute the SQL command\n",
    "conn.execute(top_rated_resources_sql)\n",
    "\n",
    "# Print results for Top-Rated Resources View\n",
    "print(\"Results for TopRatedResources:\")\n",
    "conn.execute(\"SELECT * FROM TopRatedResources;\")\n",
    "results = conn.fetchall()\n",
    "if results:\n",
    "    for row in results:\n",
    "        print(row)\n",
    "else:\n",
    "    print(\"No results found.\")\n",
    "print()"
   ]
  },
  {
   "cell_type": "markdown",
   "metadata": {},
   "source": [
    "### User Reservation Status View"
   ]
  },
  {
   "cell_type": "code",
   "execution_count": 46,
   "metadata": {},
   "outputs": [
    {
     "name": "stdout",
     "output_type": "stream",
     "text": [
      "Results for UserReservationStatus:\n",
      "(1, 'Alice Student', 'Intro to AI', 'Approved')\n",
      "(1, 'Alice Student', \"Shakespeare's Sonnets\", 'Approved')\n",
      "(2, 'Bob Faculty', 'Machine Learning Basics', 'Pending')\n",
      "(2, 'Bob Faculty', \"Shakespeare's Sonnets\", 'Approved')\n",
      "(3, 'Charlie Staff', 'Calculus for Dummies', 'Denied')\n",
      "(3, 'Charlie Staff', 'The Martian Chronicles', 'Pending')\n",
      "\n"
     ]
    }
   ],
   "source": [
    "user_reservation_status_sql = \"\"\"\n",
    "CREATE OR REPLACE VIEW UserReservationStatus AS\n",
    "SELECT U.UserID, U.Name, R.Title, Res.Status\n",
    "FROM Users U\n",
    "JOIN Reservations Res ON U.UserID = Res.UserID\n",
    "JOIN Resources R ON Res.ResourceID = R.ResourceID;\n",
    "\"\"\"\n",
    "\n",
    "conn.execute(user_reservation_status_sql)\n",
    "\n",
    "print(\"Results for UserReservationStatus:\")\n",
    "conn.execute(\"SELECT * FROM UserReservationStatus;\")\n",
    "results = conn.fetchall()\n",
    "if results:\n",
    "    for row in results:\n",
    "        print(row)\n",
    "else:\n",
    "    print(\"No results found.\")\n",
    "print()"
   ]
  },
  {
   "cell_type": "markdown",
   "metadata": {},
   "source": [
    "### Resource Borrowing History View"
   ]
  },
  {
   "cell_type": "code",
   "execution_count": 47,
   "metadata": {},
   "outputs": [
    {
     "name": "stdout",
     "output_type": "stream",
     "text": [
      "Results for ResourceBorrowingHistory:\n",
      "('Intro to AI', 'Alice Student', datetime.date(2024, 1, 15), datetime.date(2024, 2, 15), None)\n",
      "('Machine Learning Basics', 'Alice Student', datetime.date(2024, 1, 20), datetime.date(2024, 2, 20), datetime.date(2024, 2, 10))\n",
      "('Calculus for Dummies', 'Bob Faculty', datetime.date(2024, 1, 18), datetime.date(2024, 2, 18), None)\n",
      "(\"Shakespeare's Sonnets\", 'Bob Faculty', datetime.date(2024, 1, 30), datetime.date(2024, 2, 28), datetime.date(2024, 2, 27))\n",
      "(\"Shakespeare's Sonnets\", 'Charlie Staff', datetime.date(2024, 1, 25), datetime.date(2024, 2, 25), None)\n",
      "\n"
     ]
    }
   ],
   "source": [
    "resource_borrowing_history_sql = \"\"\"\n",
    "CREATE OR REPLACE VIEW ResourceBorrowingHistory AS\n",
    "SELECT R.Title, U.Name, BR.BorrowedDate, BR.DueDate, BR.ReturnedDate\n",
    "FROM BorrowingRecords BR\n",
    "JOIN Resources R ON BR.ResourceID = R.ResourceID\n",
    "JOIN Users U ON BR.UserID = U.UserID;\n",
    "\"\"\"\n",
    "\n",
    "conn.execute(resource_borrowing_history_sql)\n",
    "\n",
    "print(\"Results for ResourceBorrowingHistory:\")\n",
    "conn.execute(\"SELECT * FROM ResourceBorrowingHistory;\")\n",
    "results = conn.fetchall()\n",
    "if results:\n",
    "    for row in results:\n",
    "        print(row)\n",
    "else:\n",
    "    print(\"No results found.\")\n",
    "print()"
   ]
  },
  {
   "cell_type": "markdown",
   "metadata": {},
   "source": [
    "## Procedures\n",
    "\n",
    "##### Parameter Prefix (p_). So, any variable that has this prefix is included in the procedure"
   ]
  },
  {
   "cell_type": "markdown",
   "metadata": {},
   "source": [
    "### Overdue Fine Calculation Procedure"
   ]
  },
  {
   "cell_type": "code",
   "execution_count": 48,
   "metadata": {},
   "outputs": [],
   "source": [
    "create_procedure_fine_calculation = \"\"\"\n",
    "CREATE PROCEDURE CalculateOverdueFines()\n",
    "BEGIN\n",
    "    -- Declaring variables\n",
    "    DECLARE record_id INT;\n",
    "    DECLARE overdue_days INT;\n",
    "    DECLARE fine_amount DECIMAL(10, 2);\n",
    "    DECLARE resource_format ENUM('Physical', 'Digital');\n",
    "\n",
    "    -- Declaring a cursor to iterate through borrowing records that are overdue\n",
    "    DECLARE cur CURSOR FOR \n",
    "        SELECT BR.BorrowingRecordID, DATEDIFF(CURDATE(), BR.DueDate) AS overdue_days, R.Format \n",
    "        FROM BorrowingRecords BR\n",
    "        JOIN Resources R ON BR.ResourceID = R.ResourceID\n",
    "        WHERE BR.ReturnedDate IS NULL AND BR.DueDate < CURDATE();\n",
    "\n",
    "    -- Declaring a handler to continue the loop if no more records are found\n",
    "    DECLARE CONTINUE HANDLER FOR NOT FOUND SET record_id = NULL;\n",
    "\n",
    "    -- Open the cursor for reading\n",
    "    OPEN cur;\n",
    "\n",
    "    -- Loop through each borrowing record in the cursor\n",
    "    read_loop: LOOP\n",
    "        -- Fetch the next record into variables\n",
    "        FETCH cur INTO record_id, overdue_days, resource_format;\n",
    "\n",
    "        -- If no record is found, exit the loop\n",
    "        IF record_id IS NULL THEN\n",
    "            LEAVE read_loop;\n",
    "        END IF;\n",
    "\n",
    "        -- Calculate the fine based on resource format and overdue days\n",
    "        SET fine_amount = CASE \n",
    "            WHEN resource_format = 'Physical' THEN overdue_days * 1.00  -- $1 per day for physical resources\n",
    "            WHEN resource_format = 'Digital' THEN overdue_days * 0.50   -- $0.50 per day for digital resources\n",
    "            ELSE 0  -- Default case, no fine\n",
    "        END;\n",
    "\n",
    "        -- Insert the calculated fine into the Fines table\n",
    "        INSERT INTO Fines (BorrowingRecordID, FineAmount, PaymentDate) \n",
    "        VALUES (record_id, fine_amount, NULL);\n",
    "        \n",
    "        -- Print the calculated fine for verification\n",
    "        SELECT CONCAT('Calculated fine for BorrowingRecordID ', record_id, ': ', fine_amount) AS OutputMessage;\n",
    "    END LOOP;\n",
    "\n",
    "    -- Close the cursor after processing all records\n",
    "    CLOSE cur;\n",
    "END;\n",
    "\"\"\"\n",
    "\n",
    "\n",
    "\n",
    "\n",
    "# Execute the procedure creation\n",
    "conn.execute(create_procedure_fine_calculation)\n",
    "mydb.commit()\n"
   ]
  },
  {
   "cell_type": "code",
   "execution_count": 49,
   "metadata": {},
   "outputs": [
    {
     "name": "stdout",
     "output_type": "stream",
     "text": [
      "('Calculated fine for BorrowingRecordID 1: 252.00',)\n"
     ]
    }
   ],
   "source": [
    "conn.execute(\"CALL CalculateOverdueFines()\")\n",
    "fine_results = conn.fetchall()\n",
    "for result in fine_results:\n",
    "    print(result)"
   ]
  },
  {
   "cell_type": "markdown",
   "metadata": {},
   "source": [
    "### User Account Creation Procedure"
   ]
  },
  {
   "cell_type": "code",
   "execution_count": null,
   "metadata": {},
   "outputs": [
    {
     "name": "stdout",
     "output_type": "stream",
     "text": [
      "Connection to the database was successful.\n"
     ]
    }
   ],
   "source": [
    "mydb, conn = create_connection()\n",
    "create_procedure_user_account = \"\"\"\n",
    "CREATE PROCEDURE CreateUserAccount(\n",
    "    IN p_name VARCHAR(255), \n",
    "    IN p_email VARCHAR(255), \n",
    "    IN p_department VARCHAR(255), \n",
    "    IN p_user_type VARCHAR(50)\n",
    ")\n",
    "BEGIN\n",
    "    -- Declaring a variable to hold the UserTypeID based on the provided user type\n",
    "    DECLARE userTypeId INT;\n",
    "\n",
    "    -- Select the UserTypeID from UserTypes based on the provided user type name\n",
    "    SELECT UserTypeID INTO userTypeId \n",
    "    FROM UserTypes \n",
    "    WHERE TypeName = p_user_type LIMIT 1;\n",
    "\n",
    "    -- Insert a new user into the Users table with the provided details and the retrieved UserTypeID\n",
    "    INSERT INTO Users (Name, Email, Department, UserTypeID) \n",
    "    VALUES (p_name, p_email, p_department, userTypeId);\n",
    "    \n",
    "    -- Print a message indicating the account has been created\n",
    "    SELECT CONCAT('User account created for: ', p_name) AS OutputMessage;\n",
    "END;\n",
    "\"\"\"\n",
    "\n",
    "# Execute the procedure creation\n",
    "conn.execute(create_procedure_user_account)\n",
    "mydb.commit()"
   ]
  },
  {
   "cell_type": "code",
   "execution_count": 51,
   "metadata": {},
   "outputs": [
    {
     "name": "stdout",
     "output_type": "stream",
     "text": [
      "\n",
      " User account created for: John Doe\n"
     ]
    }
   ],
   "source": [
    "name = 'John Doe'\n",
    "email = 'john.doe@example.com'\n",
    "department = 'Engineering'\n",
    "user_type = 'Student'  \n",
    "\n",
    "call_procedure = f\"CALL CreateUserAccount('{name}', '{email}', '{department}', '{user_type}');\"\n",
    "conn.execute(call_procedure)\n",
    "\n",
    "result = conn.fetchall()\n",
    "if result:\n",
    "    for row in result:\n",
    "        print(\"\\n\",row[0])  \n",
    "else:\n",
    "    print(\"No output message.\")"
   ]
  },
  {
   "cell_type": "markdown",
   "metadata": {},
   "source": [
    "### Resource Reservation Management Procedure"
   ]
  },
  {
   "cell_type": "code",
   "execution_count": null,
   "metadata": {},
   "outputs": [
    {
     "name": "stdout",
     "output_type": "stream",
     "text": [
      "Connection to the database was successful.\n"
     ]
    }
   ],
   "source": [
    "mydb, conn = create_connection()\n",
    "create_procedure_reservation_management = \"\"\"\n",
    "CREATE PROCEDURE ManageResourceReservation(\n",
    "    IN p_user_id INT, \n",
    "    IN p_resource_id INT, \n",
    "    IN p_status ENUM('Pending', 'Approved', 'Denied')\n",
    ")\n",
    "BEGIN\n",
    "    -- Declaring a variable to check if the resource is available for reservation\n",
    "    DECLARE resource_available INT;\n",
    "\n",
    "    -- Count the number of approved reservations for the specified resource\n",
    "    SELECT COUNT(*) INTO resource_available \n",
    "    FROM Reservations \n",
    "    WHERE ResourceID = p_resource_id AND Status = 'Approved';\n",
    "\n",
    "    -- If there are no approved reservations, insert a new reservation\n",
    "    IF resource_available = 0 THEN\n",
    "        INSERT INTO Reservations (UserID, ResourceID, ReservationDate, Status) \n",
    "        VALUES (p_user_id, p_resource_id, CURDATE(), p_status);\n",
    "        \n",
    "        -- Print a message indicating the reservation has been made\n",
    "        SELECT CONCAT('Reservation created for User ID: ', p_user_id, ' on Resource ID: ', p_resource_id) AS OutputMessage;\n",
    "    ELSE\n",
    "        -- If resource is already reserved, update the status of the existing reservation\n",
    "        UPDATE Reservations \n",
    "        SET Status = p_status \n",
    "        WHERE UserID = p_user_id AND ResourceID = p_resource_id AND Status = 'Pending';\n",
    "\n",
    "        -- Print a message indicating the reservation status has been updated\n",
    "        SELECT CONCAT('Reservation status updated for User ID: ', p_user_id, ' on Resource ID: ', p_resource_id) AS OutputMessage;\n",
    "    END IF;\n",
    "END;\n",
    "\"\"\"\n",
    "\n",
    "# Execute the procedure creation\n",
    "conn.execute(create_procedure_reservation_management)\n",
    "mydb.commit()\n"
   ]
  },
  {
   "cell_type": "code",
   "execution_count": 53,
   "metadata": {},
   "outputs": [
    {
     "name": "stdout",
     "output_type": "stream",
     "text": [
      "\n",
      " Reservation status updated for User ID: 1 on Resource ID: 1\n"
     ]
    }
   ],
   "source": [
    "user_id = 1           \n",
    "resource_id = 1      \n",
    "status = 'Pending'    # Status of the reservation (Pending, Approved, Denied)\n",
    "\n",
    "call_procedure = f\"CALL ManageResourceReservation({user_id}, {resource_id}, '{status}');\"\n",
    "conn.execute(call_procedure)\n",
    "\n",
    "result = conn.fetchall()\n",
    "if result:\n",
    "    for row in result:\n",
    "        print(\"\\n\",row[0])  \n",
    "else:\n",
    "    print(\"No output message.\")\n"
   ]
  },
  {
   "cell_type": "markdown",
   "metadata": {},
   "source": [
    "### Resource Return Procedure"
   ]
  },
  {
   "cell_type": "code",
   "execution_count": 54,
   "metadata": {},
   "outputs": [
    {
     "name": "stdout",
     "output_type": "stream",
     "text": [
      "Connection to the database was successful.\n"
     ]
    }
   ],
   "source": [
    "mydb, conn = create_connection()\n",
    "create_procedure_resource_return = \"\"\"\n",
    "CREATE PROCEDURE ReturnResource(\n",
    "    IN p_borrowing_record_id INT  -- The ID of the borrowing record to return the resource\n",
    ")\n",
    "BEGIN\n",
    "    -- Declaring variables to store the due date and fine amount\n",
    "    DECLARE due_date DATE;\n",
    "    DECLARE fine_amount DECIMAL(10, 2);\n",
    "\n",
    "    -- Get the due date for the specified borrowing record\n",
    "    SELECT DueDate INTO due_date \n",
    "    FROM BorrowingRecords \n",
    "    WHERE BorrowingRecordID = p_borrowing_record_id;\n",
    "\n",
    "    -- Check if the current date is past the due date\n",
    "    IF CURDATE() > due_date THEN\n",
    "        -- Calculate the fine based on the number of overdue days\n",
    "        SET fine_amount = DATEDIFF(CURDATE(), due_date) * 1.00;\n",
    "\n",
    "        -- Insert the fine record into the Fines table\n",
    "        INSERT INTO Fines (BorrowingRecordID, FineAmount, PaymentDate) \n",
    "        VALUES (p_borrowing_record_id, fine_amount, CURDATE());\n",
    "        \n",
    "        -- Print a message indicating the fine has been added\n",
    "        SELECT CONCAT('Fine of ', fine_amount, ' added for Borrowing Record ID: ', p_borrowing_record_id) AS OutputMessage;\n",
    "    END IF;\n",
    "\n",
    "    -- Update the borrowing record to set the returned date\n",
    "    UPDATE BorrowingRecords \n",
    "    SET ReturnedDate = CURDATE() \n",
    "    WHERE BorrowingRecordID = p_borrowing_record_id;\n",
    "\n",
    "    -- Print a message indicating the resource has been returned\n",
    "    SELECT CONCAT('Resource returned for Borrowing Record ID: ', p_borrowing_record_id) AS OutputMessage;\n",
    "END;\n",
    "\"\"\"\n",
    "\n",
    "# Execute the procedure creation\n",
    "conn.execute(create_procedure_resource_return)\n",
    "mydb.commit()\n"
   ]
  },
  {
   "cell_type": "code",
   "execution_count": 55,
   "metadata": {},
   "outputs": [
    {
     "name": "stdout",
     "output_type": "stream",
     "text": [
      "Connection to the database was successful.\n",
      "\n",
      " Fine of 249.00 added for Borrowing Record ID: 3\n"
     ]
    }
   ],
   "source": [
    "mydb, conn = create_connection()\n",
    "borrowing_record_id = 3  # The ID of the borrowing record to return\n",
    "\n",
    "call_procedure = f\"\\nCALL ReturnResource({borrowing_record_id});\"\n",
    "conn.execute(call_procedure)\n",
    "\n",
    "result = conn.fetchall()\n",
    "if result:\n",
    "    for row in result:\n",
    "        print(\"\\n\",row[0]) \n",
    "else:\n",
    "    print(\"No output message.\")"
   ]
  },
  {
   "cell_type": "markdown",
   "metadata": {},
   "source": [
    "### Resource Recommendation Procedure (Optional)"
   ]
  },
  {
   "cell_type": "code",
   "execution_count": 56,
   "metadata": {},
   "outputs": [
    {
     "name": "stdout",
     "output_type": "stream",
     "text": [
      "Connection to the database was successful.\n"
     ]
    }
   ],
   "source": [
    "mydb, conn = create_connection()\n",
    "create_procedure_resource_recommendation = \"\"\"\n",
    "CREATE PROCEDURE RecommendResources(\n",
    "    IN p_user_id INT  -- The ID of the user for whom we are recommending resources\n",
    ")\n",
    "BEGIN\n",
    "    -- Selecting the resources that the user has borrowed, ordered by the count of times borrowed (most borrowed first)\n",
    "    SELECT R.Title, COUNT(BR.BorrowingRecordID) AS TimesBorrowed\n",
    "    FROM BorrowingRecords BR\n",
    "    JOIN Resources R ON BR.ResourceID = R.ResourceID\n",
    "    WHERE BR.UserID = p_user_id  -- Filter for the specific user\n",
    "    GROUP BY R.ResourceID  -- Group by resource to count how many times each has been borrowed\n",
    "    ORDER BY TimesBorrowed DESC  -- Order by the count of borrowings, descending\n",
    "    LIMIT 5;  -- Limit the recommendations to the top 5 most borrowed resources\n",
    "\n",
    "    -- Print a message indicating the recommendation has been generated\n",
    "    SELECT CONCAT('Top resource recommendations generated for User ID: ', p_user_id) AS OutputMessage;\n",
    "END;\n",
    "\"\"\"\n",
    "\n",
    "# Execute the procedure creation\n",
    "conn.execute(create_procedure_resource_recommendation)\n",
    "mydb.commit()\n"
   ]
  },
  {
   "cell_type": "code",
   "execution_count": 57,
   "metadata": {},
   "outputs": [
    {
     "name": "stdout",
     "output_type": "stream",
     "text": [
      "Connection to the database was successful.\n",
      "Recommended Resource: Intro to AI, Times Borrowed: 1\n",
      "Recommended Resource: Machine Learning Basics, Times Borrowed: 1\n"
     ]
    }
   ],
   "source": [
    "mydb, conn = create_connection()\n",
    "user_id = 1  # Replace this with the actual user ID\n",
    "\n",
    "call_procedure = f\"CALL RecommendResources({user_id});\"\n",
    "conn.execute(call_procedure)\n",
    "\n",
    "results = conn.fetchall()\n",
    "if results:\n",
    "    for row in results:\n",
    "        print(f\"Recommended Resource: {row[0]}, Times Borrowed: {row[1]}\")\n",
    "else:\n",
    "    print(\"No recommendations found.\")\n"
   ]
  },
  {
   "cell_type": "markdown",
   "metadata": {},
   "source": [
    "# Disclosure Statement\n",
    "\n",
    "#### I have used ChatGPT, an AI language model developed by OpenAI, to assist in generating dummy data and to facilitate the commenting on the code for this project. The AI was utilized to streamline certain tasks and improve the overall clarity and structure of the code but was not responsible for the project's core design or logic. All final decisions and implementations were made independently."
   ]
  }
 ],
 "metadata": {
  "kernelspec": {
   "display_name": "Python 3",
   "language": "python",
   "name": "python3"
  },
  "language_info": {
   "codemirror_mode": {
    "name": "ipython",
    "version": 3
   },
   "file_extension": ".py",
   "mimetype": "text/x-python",
   "name": "python",
   "nbconvert_exporter": "python",
   "pygments_lexer": "ipython3",
   "version": "3.12.5"
  }
 },
 "nbformat": 4,
 "nbformat_minor": 2
}
